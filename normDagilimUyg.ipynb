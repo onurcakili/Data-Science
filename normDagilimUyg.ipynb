{
 "cells": [
  {
   "cell_type": "markdown",
   "metadata": {},
   "source": [
    "# İş Uygulaması: Satış Olasılıklarının Hesaplanması\n",
    "Bir yatırım öncesinde gelecek ay ile ilgili satışların\n",
    "belirli değerlerde gerçekleşmesi olasılıkları belirlenmek isteniyor\n",
    "\n",
    "## Detaylar\n",
    "* Dağılımın normal olduğu biliniyor\n",
    "* Aylık ortalama satış sayısı 80K ve standart sapması 5k\n",
    "* 90k'dan fazla satış yapma olasılığı nedir?"
   ]
  },
  {
   "cell_type": "code",
   "execution_count": 7,
   "metadata": {},
   "outputs": [],
   "source": [
    "from scipy.stats import norm"
   ]
  },
  {
   "cell_type": "code",
   "execution_count": 8,
   "metadata": {},
   "outputs": [
    {
     "data": {
      "text/plain": [
       "0.02275013194817921"
      ]
     },
     "execution_count": 8,
     "metadata": {},
     "output_type": "execute_result"
    }
   ],
   "source": [
    "# 90K'dan fazla olma olasılığı\n",
    "\n",
    "# cdf = kümülatif yoğunluk fonksiyonu\n",
    "# kesikli değil sürekli olduğu için kümülatif = cdf\n",
    "\n",
    "1-norm.cdf(90, 80, 5)\n",
    "\n",
    "#dağılımın tamamı 75 ve 85 aralığında olduğu için\n",
    "#aralığın üstündeki kısım  1-(islem) olarak ifade edilmektedir\n",
    "\n"
   ]
  },
  {
   "cell_type": "code",
   "execution_count": 9,
   "metadata": {},
   "outputs": [
    {
     "data": {
      "text/plain": [
       "0.9772498680518208"
      ]
     },
     "execution_count": 9,
     "metadata": {},
     "output_type": "execute_result"
    }
   ],
   "source": [
    "#70'den fazla olma olasılığı\n",
    "\n",
    "1-norm.cdf(70, 80, 5)\n",
    "\n",
    "#dağılımın tamamı 75 ve 85 aralığında olduğu için\n",
    "#aralığın üstündeki kısım  1-(islem) olarak ifade edilmektedir"
   ]
  },
  {
   "cell_type": "code",
   "execution_count": 10,
   "metadata": {},
   "outputs": [
    {
     "data": {
      "text/plain": [
       "0.08075665923377107"
      ]
     },
     "execution_count": 10,
     "metadata": {},
     "output_type": "execute_result"
    }
   ],
   "source": [
    "#73'den az olma olasılığı\n",
    "\n",
    "norm.cdf(73, 80, 5)\n",
    "\n",
    "#dağılımın tamamı 75 ve 85 aralığında olduğu için\n",
    "#ve bizden 73'den AZ olma olasılığı istendiği için\n",
    "#aralığın altındaki kısım (islem) olarak ifade edilmektedir"
   ]
  },
  {
   "cell_type": "code",
   "execution_count": 16,
   "metadata": {},
   "outputs": [
    {
     "data": {
      "text/plain": [
       "0.13590512198327787"
      ]
     },
     "execution_count": 16,
     "metadata": {},
     "output_type": "execute_result"
    }
   ],
   "source": [
    "#85 ile 90 aralığında olma olasılığı\n",
    "\n",
    "(1-norm.cdf(90, 80, 5)) - (1-norm.cdf(85, 80,5))\n",
    "\n",
    "#dağılımın tamamı 75 ve 85 aralığında olduğu için\n",
    "#aralığın üstündeki kısım  1-(islem) olarak ifade edilmektedir\n",
    "\n",
    "#iki değer de üst kısımda yer aldığı için \n",
    "#negatif değerleri atabiliriz\n",
    "\n",
    "norm.cdf(90, 80,5) - norm.cdf(85, 80, 5)\n"
   ]
  },
  {
   "cell_type": "code",
   "execution_count": null,
   "metadata": {},
   "outputs": [],
   "source": []
  }
 ],
 "metadata": {
  "kernelspec": {
   "display_name": "base",
   "language": "python",
   "name": "python3"
  },
  "language_info": {
   "codemirror_mode": {
    "name": "ipython",
    "version": 3
   },
   "file_extension": ".py",
   "mimetype": "text/x-python",
   "name": "python",
   "nbconvert_exporter": "python",
   "pygments_lexer": "ipython3",
   "version": "3.11.4"
  }
 },
 "nbformat": 4,
 "nbformat_minor": 2
}
