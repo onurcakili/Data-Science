{
 "cells": [
  {
   "cell_type": "markdown",
   "metadata": {},
   "source": [
    "# İş Uygulaması: İlan Girişi Hata Olasılıkları\n",
    "\n",
    "### Problem\n",
    "* Hatalı ilan girişi olasılıkları hesaplanmak isteniyor.\n",
    "\n",
    "### Detaylar\n",
    "* Bir yıl boyunca ölçüm yapılıyor\n",
    "* Dağılım biliniyor (Poisson) ve Lambda 0.1 (ortalama hata sayısı)\n",
    "* 0,3 ve 5 hata olması olasılıkları öğrenilmek isteniyor."
   ]
  },
  {
   "cell_type": "code",
   "execution_count": 1,
   "metadata": {},
   "outputs": [],
   "source": [
    "from scipy.stats import poisson "
   ]
  },
  {
   "cell_type": "code",
   "execution_count": 4,
   "metadata": {},
   "outputs": [
    {
     "data": {
      "text/plain": [
       "7.54031181696634e-08"
      ]
     },
     "execution_count": 4,
     "metadata": {},
     "output_type": "execute_result"
    }
   ],
   "source": [
    "lambd = 0.1  \n",
    "\n",
    "result = poisson(mu = lambd)\n",
    "\n",
    "#pmf = probability mass function # olasılık kütle fonksiyonu \n",
    "## olasılık hesaplama fonks.\n",
    "\n",
    "result.pmf(k = 0)  #0 hata olması durumu\n",
    "result.pmf(k = 3)  #3 hata olması durumu\n",
    "result.pmf(k = 5)  #5 hata olması durumu \n",
    "\n",
    "#result ataması yapılıyor ve ardından pmf ile hesaplamak hata sayısının olasılığı hesplanıyor."
   ]
  },
  {
   "cell_type": "code",
   "execution_count": null,
   "metadata": {},
   "outputs": [],
   "source": []
  }
 ],
 "metadata": {
  "kernelspec": {
   "display_name": "base",
   "language": "python",
   "name": "python3"
  },
  "language_info": {
   "codemirror_mode": {
    "name": "ipython",
    "version": 3
   },
   "file_extension": ".py",
   "mimetype": "text/x-python",
   "name": "python",
   "nbconvert_exporter": "python",
   "pygments_lexer": "ipython3",
   "version": "3.11.4"
  }
 },
 "nbformat": 4,
 "nbformat_minor": 2
}
