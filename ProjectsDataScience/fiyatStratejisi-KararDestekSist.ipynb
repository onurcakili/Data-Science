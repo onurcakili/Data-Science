{
 "cells": [
  {
   "cell_type": "markdown",
   "metadata": {},
   "source": [
    "### İş Uygulaması: Fiyat Stratejisi Karar Destek \n",
    "Ceo fiyat belirleme konusunda bilimsel bir dayanarak ve esneklik istiyor.\n",
    "\n",
    "#### Detaylar \n",
    "* Satıcı, alıcı ve ürün mevcut.\n",
    "* Alıcılara \"Ürüne ne kadar ödersiniz?\" sorusu yöneltiliyor.\n",
    "* Bunlar sonucunda optimum fiyat bilimsel ve esnek olarak bulunmak isteniyor.\n",
    "\n",
    "(Veri seti temsilidir.)"
   ]
  },
  {
   "cell_type": "code",
   "execution_count": 1,
   "metadata": {},
   "outputs": [],
   "source": [
    "import numpy as np\n",
    "import statsmodels.stats.api as sms"
   ]
  },
  {
   "cell_type": "code",
   "execution_count": 2,
   "metadata": {},
   "outputs": [
    {
     "data": {
      "text/plain": [
       "58.801"
      ]
     },
     "execution_count": 2,
     "metadata": {},
     "output_type": "execute_result"
    }
   ],
   "source": [
    "fiyatlar = np.random.randint(10, 110, 1000)  #10 ve 110 aralg. 1000 fiyat alındı (temsili)\n",
    "fiyatlar.mean()  #alınan fiyatların ortalaması 58.8"
   ]
  },
  {
   "cell_type": "code",
   "execution_count": 4,
   "metadata": {},
   "outputs": [
    {
     "data": {
      "text/plain": [
       "(56.99628244683066, 60.60571755316934)"
      ]
     },
     "execution_count": 4,
     "metadata": {},
     "output_type": "execute_result"
    }
   ],
   "source": [
    "sms.DescrStatsW(fiyatlar).tconfint_mean()\n",
    "\n",
    "#Burada alınan değerler %95 güven aralıgını temsil eder\n",
    "#Python'da varsayılan değer %95\n",
    "#Alt sınır 56,9 ve üst sınır 60,6 olmak üzere güven aralığı %95"
   ]
  },
  {
   "cell_type": "code",
   "execution_count": null,
   "metadata": {},
   "outputs": [],
   "source": []
  }
 ],
 "metadata": {
  "kernelspec": {
   "display_name": "base",
   "language": "python",
   "name": "python3"
  },
  "language_info": {
   "codemirror_mode": {
    "name": "ipython",
    "version": 3
   },
   "file_extension": ".py",
   "mimetype": "text/x-python",
   "name": "python",
   "nbconvert_exporter": "python",
   "pygments_lexer": "ipython3",
   "version": "3.11.4"
  }
 },
 "nbformat": 4,
 "nbformat_minor": 2
}
