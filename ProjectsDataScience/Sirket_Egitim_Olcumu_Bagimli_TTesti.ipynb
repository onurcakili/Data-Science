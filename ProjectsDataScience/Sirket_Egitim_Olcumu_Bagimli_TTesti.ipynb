{
 "cells": [
  {
   "cell_type": "markdown",
   "metadata": {},
   "source": [
    "## İş Uygulaması: Şirket için Eğitimin Performans Etkisi Ölçüsü  \n",
    "Belirli uğraşlar sonucunda alınan bir eğitimin katma değer sağlayığ sağlayamadığı ölçülmek isteniyor.    \n",
    "\n",
    "### Detaylar  \n",
    "* Bir departman bir konuda eğitim alıyor  \n",
    "* Gerekli/Gereksiz değerlendirmeleri neticesinde eğitim alınıyor.    \n",
    "* Eğitimden önce ve sonra olacak şekilde gerekli ölçümler yapılıyor.    \n",
    "* Eğitim sonrasında eğitimin sağladığı katkı test edilmek isteniyor.  \n",
    "\n",
    "H0: Eğitim öncesi ve sonrasında fark yoktur.    \n",
    "H1: Eğitim öncesi ve sonrasında fark vardır.  "
   ]
  },
  {
   "cell_type": "code",
   "execution_count": 11,
   "metadata": {},
   "outputs": [],
   "source": [
    "import numpy as np\n",
    "import pandas as pd\n",
    "import seaborn as sns"
   ]
  },
  {
   "cell_type": "code",
   "execution_count": 3,
   "metadata": {},
   "outputs": [],
   "source": [
    "\n",
    "oncesi = pd.DataFrame([123, 119, 119, 116, 123, 123, 121, 120, 117, 118, 121,121,123,119,121, 118, 124, 121, 125, 115, 115, 119, 118, 121, 117, 117, 120,120,\n",
    "121, 117, 118, 117, 123, 118, 124, 121, 115, 118, 125, 115])\n",
    "\n",
    "sonrasi = pd.DataFrame([118, 127, 122, 132, 129, 123, 129, 132, 128, 130, 128, 138, 140, 130, 134, 134, 124, 140, 134, 129, 129, 138, 134, 124, 122, 126, 133, 127,\n",
    "130, 130, 130, 132, 117, 130, 125, 129, 133, 120, 127, 123])"
   ]
  },
  {
   "cell_type": "code",
   "execution_count": 17,
   "metadata": {},
   "outputs": [
    {
     "name": "stdout",
     "output_type": "stream",
     "text": [
      " 'AYRIK' Veri Seti: \n",
      "\n",
      "    ONCESI  SONRASI\n",
      "0     123      118\n",
      "1     119      127\n",
      "2     119      122\n",
      "3     116      132\n",
      "4     123      129 \n",
      "\n",
      "\n",
      " 'BIRLIKTE' Veri Seti: \n",
      "\n",
      "    PERFORMANS ONCESI_SONRASI\n",
      "0         123         ONCESI\n",
      "1         119         ONCESI\n",
      "2         119         ONCESI\n",
      "3         116         ONCESI\n",
      "4         123         ONCESI \n",
      "\n"
     ]
    }
   ],
   "source": [
    "# Birinci Veri Setini Düzenle\n",
    "\n",
    "#oncesi ve sonrası, AYRIK olarak yeni bir listede birlestirildi\n",
    "\n",
    "AYRIK =pd.concat([oncesi, sonrasi], axis=1)\n",
    "AYRIK.columns = ([\"ONCESI\", \"SONRASI\"])\n",
    "print(\" 'AYRIK' Veri Seti: \\n\\n\", AYRIK.head(),\"\\n\\n\")\n",
    "\n",
    "GRUP_ONCESI = np.arange(len(oncesi))  #array olustur\n",
    "GRUP_ONCESI = pd.DataFrame(GRUP_ONCESI) #olusturulan arrayi dataframe haline getir\n",
    "GRUP_ONCESI[:] = \"ONCESI\"  #dataframe'e adını ver\n",
    "\n",
    "#Flag ve oncesi degerlerini bir araya getirme işlemi\n",
    "A = pd.concat([oncesi, GRUP_ONCESI], axis=1)\n",
    "\n",
    "#Sonrası Flag/Tag'ını Olusturma\n",
    "GRUP_SONRASI = np.arange(len(sonrasi))\n",
    "GRUP_SONRASI = pd.DataFrame(GRUP_SONRASI)\n",
    "GRUP_SONRASI[:] = \"SONRASI\"\n",
    "\n",
    "#Flag ve sonrası degerlerini bir araya getirme\n",
    "B = pd.concat([sonrasi, GRUP_SONRASI], axis=1)\n",
    "\n",
    "#Tüm Veriyi Birlestirme\n",
    "BIRLIKTE = pd.concat([A,B])\n",
    "BIRLIKTE\n",
    "\n",
    "#İsimlendirme\n",
    "BIRLIKTE.columns = [\"PERFORMANS\", \"ONCESI_SONRASI\"]\n",
    "print(\" 'BIRLIKTE' Veri Seti: \\n\\n\", BIRLIKTE.head(), \"\\n\")\n"
   ]
  },
  {
   "cell_type": "code",
   "execution_count": 24,
   "metadata": {},
   "outputs": [],
   "source": [
    "# import pandas as pd\n",
    "\n",
    "# # Veri Setlerini Birleştirme\n",
    "# AYRIK = pd.concat([oncesi, sonrasi], axis=1)\n",
    "# AYRIK.columns = [\"ONCESI\", \"SONRASI\"]\n",
    "\n",
    "# # Veri Setlerine Etiket Ekleme ve Birleştirme\n",
    "# BIRLIKTE = pd.concat([oncesi.assign(PERFORMANS=oncesi, ONCESI_SONRASI=\"ONCESI\"), \n",
    "#                       sonrasi.assign(PERFORMANS=sonrasi, ONCESI_SONRASI=\"SONRASI\")])\n",
    "\n",
    "# print(\" 'AYRIK' Veri Seti: \\n\\n\", AYRIK.head(), \"\\n\\n\")\n",
    "# print(\" 'BIRLIKTE' Veri Seti: \\n\\n\", BIRLIKTE, \"\\n\")\n"
   ]
  },
  {
   "cell_type": "code",
   "execution_count": 18,
   "metadata": {},
   "outputs": [
    {
     "data": {
      "text/plain": [
       "<Axes: xlabel='ONCESI_SONRASI', ylabel='PERFORMANS'>"
      ]
     },
     "execution_count": 18,
     "metadata": {},
     "output_type": "execute_result"
    },
    {
     "data": {
      "image/png": "[encoded data removed]",
      "text/plain": [
       "<Figure size 640x480 with 1 Axes>"
      ]
     },
     "metadata": {},
     "output_type": "display_data"
    }
   ],
   "source": [
    "sns.boxplot(x=\"ONCESI_SONRASI\", y=\"PERFORMANS\", data=BIRLIKTE)"
   ]
  },
  {
   "cell_type": "code",
   "execution_count": 27,
   "metadata": {},
   "outputs": [
    {
     "data": {
      "text/plain": [
       "ShapiroResult(statistic=0.9543651342391968, pvalue=0.10722016543149948)"
      ]
     },
     "execution_count": 27,
     "metadata": {},
     "output_type": "execute_result"
    }
   ],
   "source": [
    "# Varsayım Kontrolleri (Bagimli iki örneklem)\n",
    "\n",
    "from scipy.stats import shapiro #normallik varsayımı\n",
    "\n",
    "shapiro(AYRIK.ONCESI)\n",
    "\n",
    "\n"
   ]
  },
  {
   "cell_type": "code",
   "execution_count": 28,
   "metadata": {},
   "outputs": [
    {
     "data": {
      "text/plain": [
       "ShapiroResult(statistic=0.9780092239379883, pvalue=0.6159630417823792)"
      ]
     },
     "execution_count": 28,
     "metadata": {},
     "output_type": "execute_result"
    }
   ],
   "source": [
    "shapiro(AYRIK.SONRASI)"
   ]
  },
  {
   "cell_type": "markdown",
   "metadata": {},
   "source": [
    "PValue > 0.05 olduğu için H0 hipotezi reddedilemedi.  \n",
    "Veri setinin dağılımının normal olduğu test ettik."
   ]
  },
  {
   "cell_type": "code",
   "execution_count": 30,
   "metadata": {},
   "outputs": [
    {
     "data": {
      "text/plain": [
       "LeveneResult(statistic=8.31303288672351, pvalue=0.0050844511807370246)"
      ]
     },
     "execution_count": 30,
     "metadata": {},
     "output_type": "execute_result"
    }
   ],
   "source": [
    "import scipy.stats as stats\n",
    "\n",
    "stats.levene(AYRIK.ONCESI, AYRIK.SONRASI)\n",
    "\n",
    "# pvalue < 0.05 olduğu için varyansların homojenliği varsayımı sağlanamadı \n"
   ]
  },
  {
   "cell_type": "markdown",
   "metadata": {},
   "source": [
    "Varyansların homojenliği sağlanamadığında yapılacak bazı durumlar vardır.  \n",
    "\n",
    "* Veri setinde aykırılıklar varsa bu aykırılıklar tekrar incelenebilir.  \n",
    "* Bağımlı iki örneklem testinde varyans homojenliği incelendiğinde H0 reddedildiyse ise bu durum bir miktar göz ardı edilebilir.  \n",
    "\n",
    "Bu örnek bağlamında varyans homojenliği göz ardı edilerek işlemlere devam edilmiştir."
   ]
  },
  {
   "cell_type": "markdown",
   "metadata": {},
   "source": [
    "# Hipotez Testi"
   ]
  },
  {
   "cell_type": "code",
   "execution_count": 31,
   "metadata": {},
   "outputs": [
    {
     "data": {
      "text/plain": [
       "TtestResult(statistic=-9.281533480429937, pvalue=2.0235251764440722e-11, df=39)"
      ]
     },
     "execution_count": 31,
     "metadata": {},
     "output_type": "execute_result"
    }
   ],
   "source": [
    "stats.ttest_rel(AYRIK.ONCESI, AYRIK.SONRASI)  "
   ]
  },
  {
   "cell_type": "code",
   "execution_count": 33,
   "metadata": {},
   "outputs": [
    {
     "name": "stdout",
     "output_type": "stream",
     "text": [
      "Test İstatistiği =   -9, pvalue =    0\n"
     ]
    }
   ],
   "source": [
    "Test_Istatistigi, pValue = stats.ttest_rel(AYRIK[\"ONCESI\"], AYRIK[\"SONRASI\"])\n",
    "\n",
    "print('Test İstatistiği = %4.f, pvalue = %4.f'  %  (Test_Istatistigi, pValue))"
   ]
  },
  {
   "cell_type": "markdown",
   "metadata": {},
   "source": [
    "pValue < 0.05 olduğu için H0 hipotezi reddedilmiştir.  \n",
    "\n",
    "Sonuç:  \n",
    "\n",
    "%95 güven aralığında Alınan eğitimler sonucunda istatistiki olarak anlamlı bir farklılık vardır.  \n",
    "  "
   ]
  },
  {
   "cell_type": "markdown",
   "metadata": {},
   "source": [
    "## Noneparametric Bağımlı iki Örneklem Testi\n",
    "\n",
    "Test sürecinde gerçekleşmesi gereken şekilde devam edilirse  \n",
    "Varsayım testi reddedildiği için noneparametric bagımlı iki örneklem testi kullanılmalıydı  \n",
    "noneparametric test kullanıldığında sonucun doğru olduğunu tekrar görmekteyiz.  "
   ]
  },
  {
   "cell_type": "code",
   "execution_count": 37,
   "metadata": {},
   "outputs": [
    {
     "data": {
      "text/plain": [
       "WilcoxonResult(statistic=15.0, pvalue=2.491492033374464e-07)"
      ]
     },
     "execution_count": 37,
     "metadata": {},
     "output_type": "execute_result"
    }
   ],
   "source": [
    "stats.wilcoxon(AYRIK.ONCESI, AYRIK.SONRASI)"
   ]
  },
  {
   "cell_type": "code",
   "execution_count": 39,
   "metadata": {},
   "outputs": [
    {
     "name": "stdout",
     "output_type": "stream",
     "text": [
      "Test İstatistiği =   15, pvalue =    0\n"
     ]
    }
   ],
   "source": [
    "Test_Istatistigi, pValue = stats.wilcoxon(AYRIK[\"ONCESI\"], AYRIK[\"SONRASI\"])\n",
    "\n",
    "print('Test İstatistiği = %4.f, pvalue = %4.f'  %  (Test_Istatistigi, pValue))"
   ]
  },
  {
   "cell_type": "markdown",
   "metadata": {},
   "source": [
    "pValue < 0.05 olduğu için H0 hipotezi reddedildi.  \n",
    "Noneparametric test sonucunda iki grup arasında istatistiki olarak anlamlı bir farklılık gözlemlenmektedir."
   ]
  },
  {
   "cell_type": "markdown",
   "metadata": {},
   "source": []
  }
 ],
 "metadata": {
  "kernelspec": {
   "display_name": "base",
   "language": "python",
   "name": "python3"
  },
  "language_info": {
   "codemirror_mode": {
    "name": "ipython",
    "version": 3
   },
   "file_extension": ".py",
   "mimetype": "text/x-python",
   "name": "python",
   "nbconvert_exporter": "python",
   "pygments_lexer": "ipython3",
   "version": "3.11.4"
  }
 },
 "nbformat": 4,
 "nbformat_minor": 2
}
