{
 "cells": [
  {
   "cell_type": "markdown",
   "metadata": {},
   "source": [
    "# İş Uygulaması: Kullanıcı Arayüzü Deneyi (AB Testi)\n",
    "\n",
    "## Detaylar:  \n",
    "\n",
    "* Arayüzde bulunan buton rengining kullanıcı üzerindeki etkisi ölçülecektir.  \n",
    "* Butonlardan birisi kırmızı diğeri ise yeşil renk olarak test edilecektir.  \n",
    "* Yeşil butonu gören kişi sayısı 1000 ve tıklayan kişi sayısı 300.  \n",
    "* Kırmızı butonu gören kişi sayısı 1100 ve tıklayan kişi sayısı 250.  \n",
    "\n",
    "H0: P1 <= P2  \n",
    "H1: P1 > P2  \n",
    "\n",
    "İki Örneklem Oran Testi gerçekleştireceğiz.  "
   ]
  },
  {
   "cell_type": "code",
   "execution_count": 10,
   "metadata": {},
   "outputs": [],
   "source": [
    "import numpy as np\n",
    "import pandas as pd\n",
    "\n",
    "from statsmodels.stats.proportion import proportions_ztest\n"
   ]
  },
  {
   "cell_type": "code",
   "execution_count": 11,
   "metadata": {},
   "outputs": [],
   "source": [
    "basari_sayisi = np.array([300, 250])\n",
    "gozlem_sayisi = np.array([1000, 1100])"
   ]
  },
  {
   "cell_type": "code",
   "execution_count": 13,
   "metadata": {},
   "outputs": [
    {
     "data": {
      "text/plain": [
       "(3.7857863233209255, 0.0001532232957772221)"
      ]
     },
     "execution_count": 13,
     "metadata": {},
     "output_type": "execute_result"
    }
   ],
   "source": [
    "proportions_ztest(basari_sayisi, gozlem_sayisi)"
   ]
  },
  {
   "cell_type": "markdown",
   "metadata": {},
   "source": [
    "pValue < 0.05 olduğu için H0 Hipotezi Reddedilmiştir.  \n",
    "Buton renkleri arasında istatistiksel olarak anlamlı bir farklılık vardır.  \n",
    "Yeşil buton kullanıcı üzerinde olumlu bir etki bırakmıştır.    "
   ]
  },
  {
   "cell_type": "markdown",
   "metadata": {},
   "source": []
  }
 ],
 "metadata": {
  "kernelspec": {
   "display_name": "base",
   "language": "python",
   "name": "python3"
  },
  "language_info": {
   "codemirror_mode": {
    "name": "ipython",
    "version": 3
   },
   "file_extension": ".py",
   "mimetype": "text/x-python",
   "name": "python",
   "nbconvert_exporter": "python",
   "pygments_lexer": "ipython3",
   "version": "3.11.4"
  }
 },
 "nbformat": 4,
 "nbformat_minor": 2
}
