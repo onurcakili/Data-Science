{
 "cells": [
  {
   "cell_type": "markdown",
   "metadata": {},
   "source": [
    "## Problem\n",
    "Bir ML Projesine yatırım yapılmıştır. Ürettiği tahminler neticesinde oluşan gelir  \n",
    "ile eski sistemin oluşturduğu gelir karşılaştırılıp anlamlı bir fark olup olmadığı test edilmek isteniyor.  \n",
    "\n",
    "### Detaylar\n",
    "* Model geliştirilmiş ve Web Sitesine entegre edilmiştir.\n",
    "* Site kullanıcıları belirli bir kurala göre ikiye bölünmüştür.\n",
    "* A grubu eski, B grubu ise yeni sistem\n",
    "* Gelir konusunda anlamlı bir iş yapılıp yapılmadığı test edilmek isteniyor.\n",
    "\n",
    "\n",
    "H0: M1=M2  \n",
    "H1: M1!=M2"
   ]
  },
  {
   "cell_type": "code",
   "execution_count": 51,
   "metadata": {},
   "outputs": [],
   "source": [
    "import pandas as pd\n",
    "import numpy as np \n",
    "import seaborn as sns\n",
    "from scipy import stats"
   ]
  },
  {
   "cell_type": "code",
   "execution_count": 52,
   "metadata": {},
   "outputs": [
    {
     "data": {
      "text/html": [
       "<div>\n",
       "<style scoped>\n",
       "    .dataframe tbody tr th:only-of-type {\n",
       "        vertical-align: middle;\n",
       "    }\n",
       "\n",
       "    .dataframe tbody tr th {\n",
       "        vertical-align: top;\n",
       "    }\n",
       "\n",
       "    .dataframe thead th {\n",
       "        text-align: right;\n",
       "    }\n",
       "</style>\n",
       "<table border=\"1\" class=\"dataframe\">\n",
       "  <thead>\n",
       "    <tr style=\"text-align: right;\">\n",
       "      <th></th>\n",
       "      <th>A</th>\n",
       "      <th>B</th>\n",
       "    </tr>\n",
       "  </thead>\n",
       "  <tbody>\n",
       "    <tr>\n",
       "      <th>0</th>\n",
       "      <td>30</td>\n",
       "      <td>37</td>\n",
       "    </tr>\n",
       "    <tr>\n",
       "      <th>1</th>\n",
       "      <td>27</td>\n",
       "      <td>39</td>\n",
       "    </tr>\n",
       "    <tr>\n",
       "      <th>2</th>\n",
       "      <td>21</td>\n",
       "      <td>31</td>\n",
       "    </tr>\n",
       "    <tr>\n",
       "      <th>3</th>\n",
       "      <td>27</td>\n",
       "      <td>31</td>\n",
       "    </tr>\n",
       "    <tr>\n",
       "      <th>4</th>\n",
       "      <td>29</td>\n",
       "      <td>34</td>\n",
       "    </tr>\n",
       "  </tbody>\n",
       "</table>\n",
       "</div>"
      ],
      "text/plain": [
       "    A   B\n",
       "0  30  37\n",
       "1  27  39\n",
       "2  21  31\n",
       "3  27  31\n",
       "4  29  34"
      ]
     },
     "execution_count": 52,
     "metadata": {},
     "output_type": "execute_result"
    }
   ],
   "source": [
    "# Verinin 1. Hali\n",
    "\n",
    "A = pd.DataFrame([30,27,21,27,29,30,20,20,27,32,35,22,24,23,25,27,23,27,23,\n",
    "                    25,21,18,24,26,33,26,27,28,19,25])\n",
    "\n",
    "B = pd.DataFrame([37,39,31,31,34,38,30,36,29,28,38,28,37,37,30,32,31,31,27,\n",
    "                    32,33,33,33,31,32,33,26,32,33,29])\n",
    "                    \n",
    "A_B = pd.concat( [A, B], axis = 1) # sütunlara göre birleştirme işlemi yap\n",
    "A_B.columns = [\"A\", \"B\"]  # sütunlara A ve B ismini ver\n",
    "\n",
    "A_B.head()\n"
   ]
  },
  {
   "cell_type": "code",
   "execution_count": 53,
   "metadata": {},
   "outputs": [
    {
     "name": "stdout",
     "output_type": "stream",
     "text": [
      "   Gelir Grup\n",
      "0     30    A\n",
      "1     27    A\n",
      "2     21    A\n",
      "3     27    A\n",
      "4     29    A\n",
      "    Gelir Grup\n",
      "25     33    B\n",
      "26     26    B\n",
      "27     32    B\n",
      "28     33    B\n",
      "29     29    B\n"
     ]
    }
   ],
   "source": [
    "# Verinin 2. Hali\n",
    "\n",
    "\n",
    "A = pd.DataFrame([30,27,21,27,29,30,20,20,27,32,35,22,24,23,25,27,23,27,23,\n",
    "                25,21,18,24,26,33,26,27,28,19,25])\n",
    "\n",
    "B = pd.DataFrame([37,39,31,31,34,38,30,36,29,28,38,28,37,37,30,32,31,31,27,\n",
    "                32,33,33,33,31,32,33,26,32,33,29])\n",
    "\n",
    "# A ve A'nın grubu\n",
    "\n",
    "GRUP_A = np.arange(len(A))\n",
    "GRUP_A = pd.DataFrame(GRUP_A)\n",
    "GRUP_A[:] = \"A\"\n",
    "A = pd.concat([A, GRUP_A], axis = 1)\n",
    "\n",
    "# B ve B'nin Grubu\n",
    "\n",
    "GRUP_B = np.arange(len(B))\n",
    "GRUP_B = pd.DataFrame(GRUP_A)\n",
    "GRUP_B[:] = \"B\"\n",
    "B = pd.concat([B, GRUP_B], axis = 1)\n",
    "\n",
    "# Tüm Veri\n",
    "\n",
    "AB = pd.concat([A,B])\n",
    "AB.columns = [\"Gelir\", \"Grup\"]\n",
    "print(AB.head())\n",
    "print(AB.tail())"
   ]
  },
  {
   "cell_type": "code",
   "execution_count": 54,
   "metadata": {},
   "outputs": [
    {
     "data": {
      "image/png": "[encoded data removed]",
      "text/plain": [
       "<Figure size 640x480 with 1 Axes>"
      ]
     },
     "metadata": {},
     "output_type": "display_data"
    }
   ],
   "source": [
    "sns.boxplot(x = \"Grup\", y= \"Gelir\", data= AB);"
   ]
  },
  {
   "cell_type": "markdown",
   "metadata": {},
   "source": [
    "Grafikte B'nin daha yukarıda olduğu görülmektedir  \n",
    "Fakat bunun şans eseri ortaya çıkma durumu incelenmelidir  \n",
    "Bu yüzden gerekli testleri gerçekleştireceğiz."
   ]
  },
  {
   "cell_type": "code",
   "execution_count": 55,
   "metadata": {},
   "outputs": [
    {
     "data": {
      "text/plain": [
       "ShapiroResult(statistic=0.9789243936538696, pvalue=0.7962851524353027)"
      ]
     },
     "execution_count": 55,
     "metadata": {},
     "output_type": "execute_result"
    }
   ],
   "source": [
    "# Normallik Varsayımı Kontrolü (shapiro)\n",
    "\n",
    "\n",
    "from scipy.stats import shapiro\n",
    "\n",
    "shapiro(A_B.A)"
   ]
  },
  {
   "cell_type": "code",
   "execution_count": 56,
   "metadata": {},
   "outputs": [
    {
     "data": {
      "text/plain": [
       "ShapiroResult(statistic=0.9561262130737305, pvalue=0.24584470689296722)"
      ]
     },
     "execution_count": 56,
     "metadata": {},
     "output_type": "execute_result"
    }
   ],
   "source": [
    "shapiro(A_B.B)"
   ]
  },
  {
   "cell_type": "markdown",
   "metadata": {},
   "source": [
    "Shapiro Grup A sonucundan yola çıkacak olursak  \n",
    "H0 Hiptezi, örnek dağılımı ile ana kitle normal dağılımı arasında istatistiksel olarak anlamlı bir fark yoktur demektedir.  \n",
    "Bu yüzden uygunluk testi reddedilememiştir.  \n",
    "Grup B içinde normallik varsayımı sağlanmaktadır.\n"
   ]
  },
  {
   "cell_type": "code",
   "execution_count": 57,
   "metadata": {},
   "outputs": [
    {
     "data": {
      "text/plain": [
       "LeveneResult(statistic=1.1101802757158004, pvalue=0.2964124900636569)"
      ]
     },
     "execution_count": 57,
     "metadata": {},
     "output_type": "execute_result"
    }
   ],
   "source": [
    "#Varyans Homojenliği Varsayımı\n",
    "\n",
    "# H0: Varyanslar homojendir\n",
    "# H1: Varyanslar homojen değildir.\n",
    "\n",
    "from scipy.stats import levene\n",
    "\n",
    "levene(A_B.A , A_B.B)"
   ]
  },
  {
   "cell_type": "markdown",
   "metadata": {},
   "source": [
    "H0 Hipotezi reddedilemedi, varyanslar homojendir"
   ]
  },
  {
   "cell_type": "code",
   "execution_count": 58,
   "metadata": {},
   "outputs": [
    {
     "data": {
      "text/plain": [
       "Ttest_indResult(statistic=-7.028690967745927, pvalue=2.6233215605475075e-09)"
      ]
     },
     "execution_count": 58,
     "metadata": {},
     "output_type": "execute_result"
    }
   ],
   "source": [
    "# Hipotez Testi \n",
    "\n",
    "stats.ttest_ind(A_B[\"A\"], A_B[\"B\"], equal_var = True)"
   ]
  },
  {
   "cell_type": "code",
   "execution_count": 59,
   "metadata": {},
   "outputs": [
    {
     "data": {
      "text/plain": [
       "'Test_İstatistiği = -7.0287, pValue = 0.0000'"
      ]
     },
     "execution_count": 59,
     "metadata": {},
     "output_type": "execute_result"
    }
   ],
   "source": [
    "Test_Istatistik, pValue = stats.ttest_ind(A_B[\"A\"], A_B[\"B\"], equal_var= True)\n",
    "'Test_İstatistiği = %.4f, pValue = %.4f' % (Test_Istatistik,pValue) "
   ]
  },
  {
   "cell_type": "markdown",
   "metadata": {},
   "source": [
    "H0: M1=M2  \n",
    "H1: M1!=M2\n",
    "\n",
    "Hipotez Testimizi gerçekleştirdiğimizde H0 Reddedilmiştir.  \n",
    "Yeni geliştirilen ML Modeli ile eski ML modeli arasında anlamlı bir farklılık vardır.  \n",
    "Bu farklılık B lehinedir.\n"
   ]
  },
  {
   "cell_type": "markdown",
   "metadata": {},
   "source": [
    "## Noneparametric Bağımsız İki Örneklem Testi\n",
    "Şu an gerçekleştirdiğimiz test ise  \n",
    "Yukarıda gerçekleştirilen iki Varsayım Testinin(normallik ve varyans homj.) başarısız olduğunu  \n",
    "Bu durumda noneparametric kullanılarak devam ettiğimizin varsayımıdır."
   ]
  },
  {
   "cell_type": "code",
   "execution_count": 60,
   "metadata": {},
   "outputs": [
    {
     "data": {
      "text/plain": [
       "MannwhitneyuResult(statistic=89.5, pvalue=9.557950378612535e-08)"
      ]
     },
     "execution_count": 60,
     "metadata": {},
     "output_type": "execute_result"
    }
   ],
   "source": [
    "stats.mannwhitneyu(A_B[\"A\"], A_B[\"B\"])"
   ]
  },
  {
   "cell_type": "code",
   "execution_count": 63,
   "metadata": {},
   "outputs": [
    {
     "data": {
      "text/plain": [
       "'Test_İstatistiği = 89.5000, pValue = 0.0000'"
      ]
     },
     "execution_count": 63,
     "metadata": {},
     "output_type": "execute_result"
    }
   ],
   "source": [
    "Test_Istatistik, pValue = stats.mannwhitneyu(A_B[\"A\"], A_B[\"B\"])\n",
    "'Test_İstatistiği = %.4f, pValue = %.4f' % (Test_Istatistik,pValue) "
   ]
  },
  {
   "cell_type": "markdown",
   "metadata": {},
   "source": [
    "H0: M1=M2  \n",
    "H1: M1!=M2  \n",
    "\n",
    "pValue < 0.05 olduğundan dolayı H0 Hipotezi Reddedilmiştir.\n",
    "\n",
    "M1 ve M2 arasında istatiksel olarak anlamlı bir fark vardır."
   ]
  }
 ],
 "metadata": {
  "kernelspec": {
   "display_name": "base",
   "language": "python",
   "name": "python3"
  },
  "language_info": {
   "codemirror_mode": {
    "name": "ipython",
    "version": 3
   },
   "file_extension": ".py",
   "mimetype": "text/x-python",
   "name": "python",
   "nbconvert_exporter": "python",
   "pygments_lexer": "ipython3",
   "version": "3.11.4"
  }
 },
 "nbformat": 4,
 "nbformat_minor": 2
}
