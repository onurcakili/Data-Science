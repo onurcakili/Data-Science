{
 "cells": [
  {
   "cell_type": "markdown",
   "metadata": {},
   "source": [
    "# İş Uygulaması: Reklam Harcaması Optimizasyonu\n",
    "\n",
    "Çeşitli mecralara reklam veriliyor, reklamların tıklanma ve geri dönüşüm \n",
    "oranları optimize edilmeye çalışılıyor.\n",
    "Buna yönelik olarak belirli bir mecrada çeşitli senaryolara göre\n",
    "reklama tıklama olasılıkları hesaplanmak isteniyor.\n",
    "\n",
    "## Detaylar\n",
    "\n",
    "* Bir mecrada reklam verilecek\n",
    "* Dağılım ve reklama tıklama olasılığı biliniyor (0.01)\n",
    "* Soru: Reklamı 100 kişi gördüğünde 1, 5, 10 tıklanması olasılığı nedir?\n"
   ]
  },
  {
   "cell_type": "code",
   "execution_count": 1,
   "metadata": {},
   "outputs": [],
   "source": [
    "from scipy.stats import binom"
   ]
  },
  {
   "cell_type": "code",
   "execution_count": 3,
   "metadata": {},
   "outputs": [
    {
     "name": "stdout",
     "output_type": "stream",
     "text": [
      "0.36972963764972666\n",
      "0.002897787123761478\n",
      "7.006035693977194e-08\n"
     ]
    }
   ],
   "source": [
    "p = 0.01 #tıklanma olasılığı\n",
    "n = 100   #deneme sayısı\n",
    "rv = binom(n, p)   #reversed ##geri döndürme \n",
    "\n",
    "print(rv.pmf(1))    # 1 kişi görme olasılığı\n",
    "print(rv.pmf(5))    # 5 kişi görme olasılığı\n",
    "print(rv.pmf(10))   # 10 kişi görme olasılığı"
   ]
  },
  {
   "cell_type": "code",
   "execution_count": null,
   "metadata": {},
   "outputs": [],
   "source": []
  }
 ],
 "metadata": {
  "kernelspec": {
   "display_name": "base",
   "language": "python",
   "name": "python3"
  },
  "language_info": {
   "codemirror_mode": {
    "name": "ipython",
    "version": 3
   },
   "file_extension": ".py",
   "mimetype": "text/x-python",
   "name": "python",
   "nbconvert_exporter": "python",
   "pygments_lexer": "ipython3",
   "version": "3.11.4"
  }
 },
 "nbformat": 4,
 "nbformat_minor": 2
}
